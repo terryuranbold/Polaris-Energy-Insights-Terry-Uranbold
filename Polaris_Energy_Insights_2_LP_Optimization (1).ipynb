{
  "nbformat": 4,
  "nbformat_minor": 0,
  "metadata": {
    "colab": {
      "provenance": []
    },
    "kernelspec": {
      "name": "python3",
      "display_name": "Python 3"
    },
    "language_info": {
      "name": "python"
    }
  },
  "cells": [
    {
      "cell_type": "code",
      "source": [
        "!pip install pyomo==6.6.2\n",
        "!apt-get install -y -qq glpk-utils"
      ],
      "metadata": {
        "colab": {
          "base_uri": "https://localhost:8080/"
        },
        "collapsed": true,
        "id": "V70hXJeqrkoA",
        "outputId": "24aacedc-a374-4d9e-a644-09dc05698b08"
      },
      "execution_count": null,
      "outputs": [
        {
          "output_type": "stream",
          "name": "stdout",
          "text": [
            "Collecting pyomo==6.6.2\n",
            "  Downloading Pyomo-6.6.2-cp310-cp310-manylinux_2_17_x86_64.manylinux2014_x86_64.whl.metadata (7.4 kB)\n",
            "Collecting ply (from pyomo==6.6.2)\n",
            "  Downloading ply-3.11-py2.py3-none-any.whl.metadata (844 bytes)\n",
            "Downloading Pyomo-6.6.2-cp310-cp310-manylinux_2_17_x86_64.manylinux2014_x86_64.whl (12.7 MB)\n",
            "\u001b[2K   \u001b[90m━━━━━━━━━━━━━━━━━━━━━━━━━━━━━━━━━━━━━━━━\u001b[0m \u001b[32m12.7/12.7 MB\u001b[0m \u001b[31m9.0 MB/s\u001b[0m eta \u001b[36m0:00:00\u001b[0m\n",
            "\u001b[?25hDownloading ply-3.11-py2.py3-none-any.whl (49 kB)\n",
            "\u001b[2K   \u001b[90m━━━━━━━━━━━━━━━━━━━━━━━━━━━━━━━━━━━━━━━━\u001b[0m \u001b[32m49.6/49.6 kB\u001b[0m \u001b[31m3.8 MB/s\u001b[0m eta \u001b[36m0:00:00\u001b[0m\n",
            "\u001b[?25hInstalling collected packages: ply, pyomo\n",
            "Successfully installed ply-3.11 pyomo-6.6.2\n",
            "Selecting previously unselected package libsuitesparseconfig5:amd64.\n",
            "(Reading database ... 123623 files and directories currently installed.)\n",
            "Preparing to unpack .../libsuitesparseconfig5_1%3a5.10.1+dfsg-4build1_amd64.deb ...\n",
            "Unpacking libsuitesparseconfig5:amd64 (1:5.10.1+dfsg-4build1) ...\n",
            "Selecting previously unselected package libamd2:amd64.\n",
            "Preparing to unpack .../libamd2_1%3a5.10.1+dfsg-4build1_amd64.deb ...\n",
            "Unpacking libamd2:amd64 (1:5.10.1+dfsg-4build1) ...\n",
            "Selecting previously unselected package libcolamd2:amd64.\n",
            "Preparing to unpack .../libcolamd2_1%3a5.10.1+dfsg-4build1_amd64.deb ...\n",
            "Unpacking libcolamd2:amd64 (1:5.10.1+dfsg-4build1) ...\n",
            "Selecting previously unselected package libglpk40:amd64.\n",
            "Preparing to unpack .../libglpk40_5.0-1_amd64.deb ...\n",
            "Unpacking libglpk40:amd64 (5.0-1) ...\n",
            "Selecting previously unselected package glpk-utils.\n",
            "Preparing to unpack .../glpk-utils_5.0-1_amd64.deb ...\n",
            "Unpacking glpk-utils (5.0-1) ...\n",
            "Setting up libsuitesparseconfig5:amd64 (1:5.10.1+dfsg-4build1) ...\n",
            "Setting up libamd2:amd64 (1:5.10.1+dfsg-4build1) ...\n",
            "Setting up libcolamd2:amd64 (1:5.10.1+dfsg-4build1) ...\n",
            "Setting up libglpk40:amd64 (5.0-1) ...\n",
            "Setting up glpk-utils (5.0-1) ...\n",
            "Processing triggers for man-db (2.10.2-1) ...\n",
            "Processing triggers for libc-bin (2.35-0ubuntu3.4) ...\n",
            "/sbin/ldconfig.real: /usr/local/lib/libtcm.so.1 is not a symbolic link\n",
            "\n",
            "/sbin/ldconfig.real: /usr/local/lib/libtbbbind.so.3 is not a symbolic link\n",
            "\n",
            "/sbin/ldconfig.real: /usr/local/lib/libtbb.so.12 is not a symbolic link\n",
            "\n",
            "/sbin/ldconfig.real: /usr/local/lib/libtbbbind_2_0.so.3 is not a symbolic link\n",
            "\n",
            "/sbin/ldconfig.real: /usr/local/lib/libur_adapter_opencl.so.0 is not a symbolic link\n",
            "\n",
            "/sbin/ldconfig.real: /usr/local/lib/libtbbbind_2_5.so.3 is not a symbolic link\n",
            "\n",
            "/sbin/ldconfig.real: /usr/local/lib/libtbbmalloc.so.2 is not a symbolic link\n",
            "\n",
            "/sbin/ldconfig.real: /usr/local/lib/libur_adapter_level_zero.so.0 is not a symbolic link\n",
            "\n",
            "/sbin/ldconfig.real: /usr/local/lib/libumf.so.0 is not a symbolic link\n",
            "\n",
            "/sbin/ldconfig.real: /usr/local/lib/libhwloc.so.15 is not a symbolic link\n",
            "\n",
            "/sbin/ldconfig.real: /usr/local/lib/libtbbmalloc_proxy.so.2 is not a symbolic link\n",
            "\n",
            "/sbin/ldconfig.real: /usr/local/lib/libtcm_debug.so.1 is not a symbolic link\n",
            "\n",
            "/sbin/ldconfig.real: /usr/local/lib/libur_loader.so.0 is not a symbolic link\n",
            "\n"
          ]
        }
      ]
    },
    {
      "cell_type": "code",
      "source": [
        "import pandas as pd\n",
        "import numpy as np\n",
        "import sys\n",
        "import matplotlib as plt\n",
        "from pyomo.environ import *"
      ],
      "metadata": {
        "id": "9GlnuQHvvjgK"
      },
      "execution_count": null,
      "outputs": []
    },
    {
      "cell_type": "code",
      "source": [
        "# Parameters\n",
        "capacity = {'coal': 300, 'natural_gas': 500, 'solar': 200, 'wind': 300, 'grid': 1000}  # MW\n",
        "cost_per_mwh = {'coal': 60, 'natural_gas': 55, 'solar': 25, 'wind': 20, 'grid': 70}  # $/MWh\n",
        "emissions_rate = {'coal': 1.0, 'natural_gas': 0.5, 'solar': 0, 'wind': 0, 'grid': 0.45}  # tons/MWh\n",
        "cap_factor = {'coal': 0.85, 'natural_gas': 0.8, 'solar': 0.3, 'wind': 0.35, 'grid': 1}  # %\n",
        "\n",
        "# Budget and demand limits\n",
        "demand = 1000000  # MWh (Annual demand)\n",
        "budget = 50000000  # $ (Budget)\n",
        "carbon_budget = 5000000  # $ for carbon costs (Carbon budget)\n",
        "\n",
        "# Create a Pyomo model\n",
        "model = ConcreteModel()\n",
        "\n",
        "# Define sets\n",
        "model.sources = Set(initialize=capacity.keys())\n",
        "\n",
        "# Define variables\n",
        "model.generation = Var(model.sources, within=NonNegativeReals)\n",
        "model.carbon_credits = Var(within=NonNegativeReals)\n",
        "\n",
        "# Constraints\n",
        "\n",
        "def capacity_constraint_rule(model, s):\n",
        "    return model.generation[s] <= capacity[s] * cap_factor[s] * 8760\n",
        "model.capacity_constraints = Constraint(model.sources, rule=capacity_constraint_rule)\n",
        "\n",
        "def demand_constraint_rule(model):\n",
        "    return sum(model.generation[s] for s in model.sources) == demand\n",
        "model.demand_constraint = Constraint(rule=demand_constraint_rule)\n",
        "\n",
        "def budget_constraint_rule(model):\n",
        "    return sum(model.generation[s] * cost_per_mwh[s] for s in model.sources) <= budget\n",
        "model.budget_constraint = Constraint(rule=budget_constraint_rule)\n",
        "\n",
        "def carbon_constraint_rule(model):\n",
        "    return sum(model.generation[s] * emissions_rate[s] for s in model.sources) * 20 - model.carbon_credits * 20 <= carbon_budget\n",
        "model.carbon_constraint = Constraint(rule=carbon_constraint_rule)\n",
        "\n",
        "def grid_constraint_rule(model):\n",
        "    return model.generation['grid'] >= 0.1 * demand\n",
        "model.grid_constraint = Constraint(rule=grid_constraint_rule)\n",
        "\n",
        "def natural_gas_constraint_rule(model):\n",
        "    return model.generation['natural_gas'] >= 1000\n",
        "model.natural_gas_constraint = Constraint(rule=natural_gas_constraint_rule)\n",
        "\n",
        "# Objective function (minimize emissions)\n",
        "model.objective = Objective(expr=sum(model.generation[s] * emissions_rate[s] for s in model.sources), sense=minimize)\n",
        "\n",
        "# Solve the model\n",
        "solver = SolverFactory('glpk')\n",
        "results = solver.solve(model)"
      ],
      "metadata": {
        "id": "0nj_kiPlr1oF"
      },
      "execution_count": null,
      "outputs": []
    },
    {
      "cell_type": "code",
      "source": [
        "# Display results\n",
        "if results.solver.status == SolverStatus.ok:\n",
        "    print(\"Generation Results:\")\n",
        "    total_operating_costs = 0  # Initialize total operating costs\n",
        "    total_emissions = 0       # Initialize total emissions\n",
        "\n",
        "    for s in model.sources:\n",
        "        generated_mwh = value(model.generation[s])\n",
        "        emitted_co2 = generated_mwh * emissions_rate[s]\n",
        "        cost_spent = generated_mwh * cost_per_mwh[s]\n",
        "\n",
        "        total_operating_costs += cost_spent  # Accumulate operating costs\n",
        "        total_emissions += emitted_co2       # Accumulate emissions\n",
        "\n",
        "        print(f\"From {s.capitalize()}, generate {generated_mwh:.2f} MWh. \"\n",
        "              f\"CO2 emitted: {emitted_co2:.2f} tons. Cost: ${cost_spent:.2f}.\")\n",
        "\n",
        "    # Calculate carbon credits needed\n",
        "    carbon_credits_needed = total_emissions  # Assume all emissions are offset\n",
        "\n",
        "    # Calculate total cost for carbon credits\n",
        "    carbon_credit_cost = carbon_credits_needed * 20  # $20 per ton\n",
        "\n",
        "    # Check if carbon credit cost is within budget\n",
        "    if carbon_credit_cost <= carbon_budget:\n",
        "        print(f\"\\nTotal CO2 Emitted: {total_emissions:.2f} tons.\")\n",
        "        print(f\"Carbon credits purchased: {carbon_credits_needed:.2f} tons.\")\n",
        "        print(f\"Total cost for carbon credits: ${carbon_credit_cost:.2f}.\")\n",
        "\n",
        "        # Calculate remaining budget after buying carbon credits\n",
        "        remaining_energy_budget = budget - total_operating_costs\n",
        "        remaining_carbon_budget = carbon_budget - carbon_credit_cost\n",
        "        print(f\"Total Operating Costs: ${total_operating_costs:.2f}\")\n",
        "        print(f\"Remaining Energy Budget: ${remaining_energy_budget:.2f}\")\n",
        "        print(f\"Remaining Carbon Budget: ${remaining_carbon_budget:.2f}\")\n",
        "    else:\n",
        "        print(f\"Not enough budget for carbon offsets. Needed: ${carbon_credit_cost:.2f}, Available: ${carbon_budget:.2f}.\")\n",
        "\n",
        "\n",
        "else:\n",
        "    print(\"Optimization failed:\", results.solver.termination_condition)"
      ],
      "metadata": {
        "colab": {
          "base_uri": "https://localhost:8080/"
        },
        "id": "5Sl6fkvHtOGz",
        "outputId": "1f9769fc-1abb-4efa-f5dd-d73123458fa2"
      },
      "execution_count": null,
      "outputs": [
        {
          "output_type": "stream",
          "name": "stdout",
          "text": [
            "Generation Results:\n",
            "From Coal, generate 0.00 MWh. CO2 emitted: 0.00 tons. Cost: $0.00.\n",
            "From Natural_gas, generate 1000.00 MWh. CO2 emitted: 500.00 tons. Cost: $55000.00.\n",
            "From Solar, generate 0.00 MWh. CO2 emitted: 0.00 tons. Cost: $0.00.\n",
            "From Wind, generate 899000.00 MWh. CO2 emitted: 0.00 tons. Cost: $17980000.00.\n",
            "From Grid, generate 100000.00 MWh. CO2 emitted: 45000.00 tons. Cost: $7000000.00.\n",
            "\n",
            "Total CO2 Emitted: 45500.00 tons.\n",
            "Carbon credits purchased: 45500.00 tons.\n",
            "Total cost for carbon credits: $910000.00.\n",
            "Total Operating Costs: $25035000.00\n",
            "Remaining Energy Budget: $24965000.00\n",
            "Remaining Carbon Budget: $4090000.00\n"
          ]
        }
      ]
    }
  ]
}